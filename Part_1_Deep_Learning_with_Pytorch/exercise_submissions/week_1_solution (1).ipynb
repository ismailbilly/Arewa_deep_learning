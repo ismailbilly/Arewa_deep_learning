{
  "nbformat": 4,
  "nbformat_minor": 0,
  "metadata": {
    "colab": {
      "provenance": [],
      "gpuType": "T4"
    },
    "kernelspec": {
      "name": "python3",
      "display_name": "Python 3"
    },
    "language_info": {
      "name": "python"
    },
    "accelerator": "GPU"
  },
  "cells": [
    {
      "cell_type": "markdown",
      "source": [
        "Arewa Data Science Academy\n",
        "Deep Learning Cohort1.0\n",
        "Name: Bilqisu Ismail\n",
        "Email: ismail.bilkisu@gmail.com\n",
        "Title: Week 1 Solution"
      ],
      "metadata": {
        "id": "UvNJNmZeq9i5"
      }
    },
    {
      "cell_type": "markdown",
      "source": [
        "Exercises Solution"
      ],
      "metadata": {
        "id": "589XebMIrNCK"
      }
    },
    {
      "cell_type": "code",
      "execution_count": 2,
      "metadata": {
        "colab": {
          "base_uri": "https://localhost:8080/"
        },
        "id": "gBAOrsjXcbVg",
        "outputId": "81463662-cfe1-42ea-fd59-b11984acf6df"
      },
      "outputs": [
        {
          "output_type": "stream",
          "name": "stdout",
          "text": [
            "2.1.0+cu121\n"
          ]
        }
      ],
      "source": [
        "# Exercise 1- Solution\n",
        "\n",
        "import torch\n",
        "print(f\"{torch.__version__}\")"
      ]
    },
    {
      "cell_type": "code",
      "source": [
        "# Create random tensor\n",
        "random_tensor_1 = torch.rand(size=(7, 7))\n",
        "random_tensor_1"
      ],
      "metadata": {
        "colab": {
          "base_uri": "https://localhost:8080/"
        },
        "id": "MYyreqJldFSV",
        "outputId": "0453f380-2bbc-4b2e-fa7f-52aa79f7bb40"
      },
      "execution_count": 4,
      "outputs": [
        {
          "output_type": "execute_result",
          "data": {
            "text/plain": [
              "tensor([[0.2392, 0.1091, 0.6375, 0.7266, 0.8299, 0.7384, 0.0089],\n",
              "        [0.0908, 0.3263, 0.5917, 0.6597, 0.8350, 0.4136, 0.2278],\n",
              "        [0.4061, 0.8505, 0.8977, 0.5752, 0.9239, 0.5218, 0.3221],\n",
              "        [0.6755, 0.6378, 0.5400, 0.1942, 0.4979, 0.0947, 0.5814],\n",
              "        [0.4577, 0.1433, 0.4201, 0.2204, 0.8387, 0.3471, 0.2476],\n",
              "        [0.7289, 0.8300, 0.6399, 0.4283, 0.5752, 0.1887, 0.8432],\n",
              "        [0.8902, 0.4888, 0.8481, 0.9596, 0.2251, 0.5291, 0.9687]])"
            ]
          },
          "metadata": {},
          "execution_count": 4
        }
      ]
    },
    {
      "cell_type": "code",
      "source": [
        "random_tensor_2= torch.rand(size=(1, 7))\n",
        "random_tensor_2"
      ],
      "metadata": {
        "colab": {
          "base_uri": "https://localhost:8080/"
        },
        "id": "vk5mSW2Ke49V",
        "outputId": "9090da63-7187-4e44-ffda-d4ccadca8faa"
      },
      "execution_count": 6,
      "outputs": [
        {
          "output_type": "execute_result",
          "data": {
            "text/plain": [
              "tensor([[0.6643, 0.8444, 0.1936, 0.7785, 0.4869, 0.5638, 0.0811]])"
            ]
          },
          "metadata": {},
          "execution_count": 6
        }
      ]
    },
    {
      "cell_type": "code",
      "source": [
        "# Perform matrix multiplication\n",
        "matrix_multiplication = torch.matmul(random_tensor_1, random_tensor_2.T)\n",
        "matrix_multiplication"
      ],
      "metadata": {
        "colab": {
          "base_uri": "https://localhost:8080/"
        },
        "id": "Ovz36-8Zf-hn",
        "outputId": "c9700821-80c2-411e-ea16-97a1bc975889"
      },
      "execution_count": 8,
      "outputs": [
        {
          "output_type": "execute_result",
          "data": {
            "text/plain": [
              "tensor([[1.7612],\n",
              "        [1.6222],\n",
              "        [2.3797],\n",
              "        [1.5861],\n",
              "        [1.3021],\n",
              "        [2.0972],\n",
              "        [2.4018]])"
            ]
          },
          "metadata": {},
          "execution_count": 8
        }
      ]
    },
    {
      "cell_type": "code",
      "source": [
        "# Set the random seed for reproducibility\n",
        "torch.manual_seed(42)\n",
        "\n",
        "# Initialize a linear layer with 2 input features and 6 output features\n",
        "linear = torch.nn.Linear(in_features=2, out_features=6)\n",
        "\n",
        "# Create a sample input tensor with shape (batch_size, 2)\n",
        "# For the purpose of illustration, let's assume batch_size = 3\n",
        "tensor_A = torch.rand((3, 2))\n",
        "\n",
        "# Apply the linear layer to the input tensor\n",
        "output = linear(tensor_A)\n",
        "\n",
        "# Print the input, output, and shapes\n",
        "print(f\"Sample Input:\\n{tensor_A}\\n\")\n",
        "print(f\"Sample Output:\\n{output}\\n\")\n",
        "print(f\"Input shape: {tensor_A.shape}\\n\")\n",
        "print(f\"Output shape: {output.shape}\")"
      ],
      "metadata": {
        "colab": {
          "base_uri": "https://localhost:8080/"
        },
        "id": "nNAmVnu8kLb9",
        "outputId": "1096edc5-4ee4-4eb8-eb24-9723487a8f7a"
      },
      "execution_count": 9,
      "outputs": [
        {
          "output_type": "stream",
          "name": "stdout",
          "text": [
            "Sample Input:\n",
            "tensor([[0.2666, 0.6274],\n",
            "        [0.2696, 0.4414],\n",
            "        [0.2969, 0.8317]])\n",
            "\n",
            "Sample Output:\n",
            "tensor([[ 1.0348,  0.4592,  0.3892,  0.0690,  0.3858,  0.3514],\n",
            "        [ 0.9272,  0.3378,  0.3622, -0.0094,  0.4842,  0.3286],\n",
            "        [ 1.1711,  0.5868,  0.4136,  0.1433,  0.2987,  0.3971]],\n",
            "       grad_fn=<AddmmBackward0>)\n",
            "\n",
            "Input shape: torch.Size([3, 2])\n",
            "\n",
            "Output shape: torch.Size([3, 6])\n"
          ]
        }
      ]
    },
    {
      "cell_type": "code",
      "source": [
        "# Set manual seed\n",
        "torch.manual_seed(0)\n",
        "\n",
        "random_tensor_1 = torch.rand(size=(7, 7))\n",
        "random_tensor_2= torch.rand(size=(1, 7))\n",
        "# Matrix multiply tensors\n",
        "seed_matrix_multiplication = torch.matmul(random_tensor_1, random_tensor_2.T)\n",
        "seed_matrix_multiplication"
      ],
      "metadata": {
        "colab": {
          "base_uri": "https://localhost:8080/"
        },
        "id": "KlPCxAPRkaN8",
        "outputId": "ff97e083-e217-4c64-f4a7-d4961d1cfdd2"
      },
      "execution_count": 12,
      "outputs": [
        {
          "output_type": "execute_result",
          "data": {
            "text/plain": [
              "tensor([[1.8542],\n",
              "        [1.9611],\n",
              "        [2.2884],\n",
              "        [3.0481],\n",
              "        [1.7067],\n",
              "        [2.5290],\n",
              "        [1.7989]])"
            ]
          },
          "metadata": {},
          "execution_count": 12
        }
      ]
    },
    {
      "cell_type": "code",
      "source": [
        "# Set random seed on the GPU\n",
        "torch.cuda.manual_seed(1234)"
      ],
      "metadata": {
        "id": "Pj9m4XyllwOb"
      },
      "execution_count": 3,
      "outputs": []
    },
    {
      "cell_type": "code",
      "source": [
        "# Check for access to GPU\n",
        "device = \"cuda\" if torch.cuda.is_available() else \"cpu\"\n",
        "print(f\"Device: {device}\")\n",
        "\n",
        "# Create two random tensors on GPU\n",
        "gpu_tensor_1 = torch.rand(size=(2,3)).to(device)\n",
        "gpu_tensor_2 = torch.rand(size=(2,3)).to(device)\n",
        "gpu_tensor_1, gpu_tensor_2\n",
        ""
      ],
      "metadata": {
        "colab": {
          "base_uri": "https://localhost:8080/"
        },
        "id": "vRCUVaU-mHlk",
        "outputId": "031c30c6-c29f-43fb-91f5-3eba54321c34"
      },
      "execution_count": 6,
      "outputs": [
        {
          "output_type": "stream",
          "name": "stdout",
          "text": [
            "Device: cuda\n"
          ]
        },
        {
          "output_type": "execute_result",
          "data": {
            "text/plain": [
              "(tensor([[0.9734, 0.0859, 0.9417],\n",
              "         [0.8727, 0.0228, 0.4643]], device='cuda:0'),\n",
              " tensor([[0.7506, 0.0052, 0.7921],\n",
              "         [0.8364, 0.1988, 0.1660]], device='cuda:0'))"
            ]
          },
          "metadata": {},
          "execution_count": 6
        }
      ]
    },
    {
      "cell_type": "markdown",
      "source": [],
      "metadata": {
        "id": "Sb_hKuLjquDY"
      }
    },
    {
      "cell_type": "code",
      "source": [
        "# Perform matmul on tensor_A and tensor_B\n",
        "\n",
        "gpu_tensor_3 = torch.matmul(gpu_tensor_1, gpu_tensor_2.T)\n",
        "gpu_tensor_3, gpu_tensor_3.shape"
      ],
      "metadata": {
        "colab": {
          "base_uri": "https://localhost:8080/"
        },
        "id": "p03XjJ8lm4mq",
        "outputId": "5d11766d-39fb-478a-c506-632981f12baa"
      },
      "execution_count": 7,
      "outputs": [
        {
          "output_type": "execute_result",
          "data": {
            "text/plain": [
              "(tensor([[1.4769, 0.9875],\n",
              "         [1.0229, 0.8116]], device='cuda:0'),\n",
              " torch.Size([2, 2]))"
            ]
          },
          "metadata": {},
          "execution_count": 7
        }
      ]
    },
    {
      "cell_type": "code",
      "source": [
        "# Find maximum\n",
        "max = torch.max(gpu_tensor_3)\n",
        "\n",
        "# Find minimum\n",
        "min = torch.min(gpu_tensor_3)\n",
        "max, min"
      ],
      "metadata": {
        "colab": {
          "base_uri": "https://localhost:8080/"
        },
        "id": "WD3cKCtankqM",
        "outputId": "18851c09-3cf3-42f9-f7e9-48260239e0e5"
      },
      "execution_count": 8,
      "outputs": [
        {
          "output_type": "execute_result",
          "data": {
            "text/plain": [
              "(tensor(1.4769, device='cuda:0'), tensor(0.8116, device='cuda:0'))"
            ]
          },
          "metadata": {},
          "execution_count": 8
        }
      ]
    },
    {
      "cell_type": "code",
      "source": [
        "# Find arg max\n",
        "max_index = torch.argmax(gpu_tensor_3)\n",
        "\n",
        "# Find arg min\n",
        "min_index = torch.argmin(gpu_tensor_3)\n",
        "max_index, min_index"
      ],
      "metadata": {
        "colab": {
          "base_uri": "https://localhost:8080/"
        },
        "id": "Zaj1qhGeoIY2",
        "outputId": "def81448-065f-422e-dba8-fec9c9b6aea6"
      },
      "execution_count": 9,
      "outputs": [
        {
          "output_type": "execute_result",
          "data": {
            "text/plain": [
              "(tensor(0, device='cuda:0'), tensor(3, device='cuda:0'))"
            ]
          },
          "metadata": {},
          "execution_count": 9
        }
      ]
    },
    {
      "cell_type": "code",
      "source": [
        "# Set seed\n",
        "torch.manual_seed(7)\n",
        "\n",
        "# Create random tensor\n",
        "random_tensor_4 = torch.rand(size=(1, 1, 1, 10))\n",
        "\n",
        "# Remove single dimensions\n",
        "random_tensor_5 = random_tensor_4.squeeze()\n",
        "\n",
        "# Print out tensors\n",
        "print(random_tensor_4)\n",
        "print(random_tensor_5)"
      ],
      "metadata": {
        "colab": {
          "base_uri": "https://localhost:8080/"
        },
        "id": "LFu3Khnqoiqn",
        "outputId": "d003aa45-da96-4729-f790-091553941cc9"
      },
      "execution_count": 10,
      "outputs": [
        {
          "output_type": "stream",
          "name": "stdout",
          "text": [
            "tensor([[[[0.5349, 0.1988, 0.6592, 0.6569, 0.2328, 0.4251, 0.2071, 0.6297,\n",
            "           0.3653, 0.8513]]]])\n",
            "tensor([0.5349, 0.1988, 0.6592, 0.6569, 0.2328, 0.4251, 0.2071, 0.6297, 0.3653,\n",
            "        0.8513])\n"
          ]
        }
      ]
    }
  ]
}